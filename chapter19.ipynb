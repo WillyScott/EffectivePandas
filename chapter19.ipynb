{
 "cells": [
  {
   "attachments": {},
   "cell_type": "markdown",
   "metadata": {},
   "source": [
    "Chapter 19\n",
    "Looping and Aggregation"
   ]
  },
  {
   "cell_type": "code",
   "execution_count": null,
   "metadata": {},
   "outputs": [],
   "source": [
    "# deletes variables\n",
    "%reset -f"
   ]
  },
  {
   "attachments": {},
   "cell_type": "markdown",
   "metadata": {},
   "source": [
    "19.1 For Loops"
   ]
  },
  {
   "cell_type": "code",
   "execution_count": 1,
   "metadata": {},
   "outputs": [],
   "source": [
    "def tweak_siena_pres(df):\n",
    "    def int64_to_uint8(df_):\n",
    "        cols = df_.select_dtypes('int64')\n",
    "        return (df_\n",
    "                .astype({col:'uint8' for col in cols}))\n",
    "\n",
    "\n",
    "    return (df\n",
    "     .rename(columns={'Seq.':'Seq'})    # 1\n",
    "     .rename(columns={k:v.replace(' ', '_') for k,v in\n",
    "        {'Bg': 'Background',\n",
    "         'PL': 'Party leadership', 'CAb': 'Communication ability',\n",
    "         'RC': 'Relations with Congress', 'CAp': 'Court appointments',\n",
    "         'HE': 'Handling of economy', 'L': 'Luck',\n",
    "         'AC': 'Ability to compromise', 'WR': 'Willing to take risks',\n",
    "         'EAp': 'Executive appointments', 'OA': 'Overall ability',\n",
    "         'Im': 'Imagination', 'DA': 'Domestic accomplishments',\n",
    "         'Int': 'Integrity', 'EAb': 'Executive ability',\n",
    "         'FPA': 'Foreign policy accomplishments',\n",
    "         'LA': 'Leadership ability',\n",
    "         'IQ': 'Intelligence', 'AM': 'Avoid crucial mistakes',\n",
    "         'EV': \"Experts' view\", 'O': 'Overall'}.items()})\n",
    "     .astype({'Party':'category'})  # 2\n",
    "     .pipe(int64_to_uint8)  # 3\n",
    "     .assign(Average_rank=lambda df_:(df_.select_dtypes('uint8') # 4\n",
    "                 .sum(axis=1).rank(method='dense').astype('uint8')),\n",
    "             Quartile=lambda df_:pd.qcut(df_.Average_rank, 4,\n",
    "                 labels='1st 2nd 3rd 4th'.split())\n",
    "            )\n",
    "    )"
   ]
  },
  {
   "cell_type": "code",
   "execution_count": 2,
   "metadata": {},
   "outputs": [],
   "source": [
    "import pandas as pd\n",
    "\n",
    "pd.set_option('display.max_rows', 10)             \n",
    "url = 'https://github.com/mattharrison/datasets/raw/master/data/'\\\n",
    "    'siena2018-pres.csv'\n",
    "df = pd.read_csv(url)\n",
    "\n",
    "pres = tweak_siena_pres(df)\n"
   ]
  },
  {
   "cell_type": "code",
   "execution_count": 4,
   "metadata": {},
   "outputs": [
    {
     "name": "stdout",
     "output_type": "stream",
     "text": [
      "Unnamed: 0 <class 'pandas.core.series.Series'>\n",
      "Seq <class 'pandas.core.series.Series'>\n",
      "President <class 'pandas.core.series.Series'>\n",
      "Party <class 'pandas.core.series.Series'>\n",
      "Background <class 'pandas.core.series.Series'>\n",
      "Imagination <class 'pandas.core.series.Series'>\n",
      "Integrity <class 'pandas.core.series.Series'>\n",
      "Intelligence <class 'pandas.core.series.Series'>\n",
      "Luck <class 'pandas.core.series.Series'>\n",
      "Willing_to_take_risks <class 'pandas.core.series.Series'>\n",
      "Ability_to_compromise <class 'pandas.core.series.Series'>\n",
      "Executive_ability <class 'pandas.core.series.Series'>\n",
      "Leadership_ability <class 'pandas.core.series.Series'>\n",
      "Communication_ability <class 'pandas.core.series.Series'>\n",
      "Overall_ability <class 'pandas.core.series.Series'>\n",
      "Party_leadership <class 'pandas.core.series.Series'>\n",
      "Relations_with_Congress <class 'pandas.core.series.Series'>\n",
      "Court_appointments <class 'pandas.core.series.Series'>\n",
      "Handling_of_economy <class 'pandas.core.series.Series'>\n",
      "Executive_appointments <class 'pandas.core.series.Series'>\n",
      "Domestic_accomplishments <class 'pandas.core.series.Series'>\n",
      "Foreign_policy_accomplishments <class 'pandas.core.series.Series'>\n",
      "Avoid_crucial_mistakes <class 'pandas.core.series.Series'>\n",
      "Experts'_view <class 'pandas.core.series.Series'>\n",
      "Overall <class 'pandas.core.series.Series'>\n",
      "Average_rank <class 'pandas.core.series.Series'>\n",
      "Quartile <class 'pandas.core.series.Series'>\n"
     ]
    }
   ],
   "source": [
    "# iteration over columns (col_name, series) tuple\n",
    "for col_name, col in pres.iteritems():\n",
    "    print(col_name, type(col))\n",
    "    "
   ]
  }
 ],
 "metadata": {
  "kernelspec": {
   "display_name": "Python 3",
   "language": "python",
   "name": "python3"
  },
  "language_info": {
   "codemirror_mode": {
    "name": "ipython",
    "version": 3
   },
   "file_extension": ".py",
   "mimetype": "text/x-python",
   "name": "python",
   "nbconvert_exporter": "python",
   "pygments_lexer": "ipython3",
   "version": "3.8.4"
  },
  "orig_nbformat": 4,
  "vscode": {
   "interpreter": {
    "hash": "9650cb4e16cdd4a8e8e2d128bf38d875813998db22a3c986335f89e0cb4d7bb2"
   }
  }
 },
 "nbformat": 4,
 "nbformat_minor": 2
}
