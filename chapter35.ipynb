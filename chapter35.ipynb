{
 "cells": [
  {
   "attachments": {},
   "cell_type": "markdown",
   "metadata": {},
   "source": [
    "Chapter 35\n",
    "Debugging Pandas"
   ]
  },
  {
   "cell_type": "code",
   "execution_count": null,
   "metadata": {},
   "outputs": [],
   "source": [
    "# deletes variables\n",
    "%reset -f"
   ]
  },
  {
   "cell_type": "code",
   "execution_count": null,
   "metadata": {},
   "outputs": [],
   "source": [
    "import pandas as pd\n",
    "#url = 'https://raw.githubusercontent.com/mattharrison/datasets/master/data/dirtydevil.txt'\n",
    "url = 'https://github.com/mattharrison/datasets/raw/master/data/dirtydevil.txt'"
   ]
  },
  {
   "cell_type": "code",
   "execution_count": null,
   "metadata": {},
   "outputs": [],
   "source": [
    "df = pd.read_csv(url,skiprows=lambda num: num < 34 or num == 35,\n",
    "    sep='\\t')\n",
    "\n",
    "#df2= pd.read_csv('dirtydevil.txt',skiprows=lambda num: num < 34 or num == 35, sep='\\t')"
   ]
  },
  {
   "cell_type": "code",
   "execution_count": null,
   "metadata": {},
   "outputs": [],
   "source": [
    "df"
   ]
  },
  {
   "cell_type": "code",
   "execution_count": null,
   "metadata": {},
   "outputs": [],
   "source": [
    "df.head(10)"
   ]
  },
  {
   "cell_type": "code",
   "execution_count": null,
   "metadata": {},
   "outputs": [],
   "source": [
    "df.dtypes"
   ]
  },
  {
   "cell_type": "code",
   "execution_count": null,
   "metadata": {},
   "outputs": [],
   "source": [
    "df.describe()"
   ]
  },
  {
   "cell_type": "code",
   "execution_count": null,
   "metadata": {},
   "outputs": [],
   "source": [
    "def to_denver_time(df_, time_col, tz_col):\n",
    "    return (df_\n",
    "       .assign(**{tz_col: df_[tz_col].replace('MDT', 'MST7MDT')})\n",
    "       .groupby(tz_col)\n",
    "       [time_col]\n",
    "       .transform(lambda s: pd.to_datetime(s)\n",
    "           .dt.tz_localize(s.name, ambiguous=True)\n",
    "           .dt.tz_convert('America/Denver'))\n",
    "    )\n",
    "def tweak_river(df_):\n",
    "    return (df_\n",
    "     .assign(datetime=to_denver_time(df_, 'datetime', 'tz_cd'))\n",
    "     .rename(columns={'144166_00060': 'cfs',\n",
    "                      '144167_00065': 'gage_height'})\n",
    "    )\n",
    "\n",
    "\n",
    "    "
   ]
  },
  {
   "cell_type": "code",
   "execution_count": null,
   "metadata": {},
   "outputs": [],
   "source": [
    "dd = tweak_river(df)"
   ]
  },
  {
   "cell_type": "code",
   "execution_count": null,
   "metadata": {},
   "outputs": [],
   "source": [
    "dd2 = pd.read_json(dd.to_json())\n",
    "dd.equals(dd2)"
   ]
  },
  {
   "cell_type": "code",
   "execution_count": null,
   "metadata": {},
   "outputs": [],
   "source": [
    "# quantify the count of different values\n",
    "\n",
    "( dd\n",
    " .ne(dd2)\n",
    " .sum()\n",
    ")"
   ]
  },
  {
   "cell_type": "code",
   "execution_count": null,
   "metadata": {},
   "outputs": [],
   "source": [
    "# percent differences\n",
    "(dd\n",
    " .ne(dd2)\n",
    " .mean()\n",
    " .mul(100)\n",
    ")"
   ]
  },
  {
   "cell_type": "code",
   "execution_count": null,
   "metadata": {},
   "outputs": [],
   "source": [
    "pd.testing.assert_frame_equal(dd, dd2)"
   ]
  },
  {
   "cell_type": "code",
   "execution_count": null,
   "metadata": {},
   "outputs": [],
   "source": [
    "pd.testing.assert_frame_equal(dd,\n",
    "                              (dd2\n",
    "                                  .assign(datetime=dd2.datetime\n",
    "                                          .dt.tz_localize('UTC')\n",
    "                                           .dt.tz_convert('America/Denver'))\n",
    "                              )\n",
    "                             )"
   ]
  },
  {
   "cell_type": "code",
   "execution_count": null,
   "metadata": {},
   "outputs": [],
   "source": [
    "(dd.equals(dd2\n",
    "            .assign(datetime=dd2.datetime\n",
    "                                          .dt.tz_localize('UTC')\n",
    "                                           .dt.tz_convert('America/Denver'))\n",
    "           )\n",
    ")"
   ]
  },
  {
   "cell_type": "code",
   "execution_count": null,
   "metadata": {},
   "outputs": [],
   "source": [
    "pd.testing.assert_frame_equal(dd,\n",
    "                              (dd2\n",
    "                                  .assign(datetime=dd2.datetime\n",
    "                                          .dt.tz_localize('UTC')\n",
    "                                           .dt.tz_convert('America/Denver'))\n",
    "                              ),\n",
    "                              check_exact=True\n",
    "                             )"
   ]
  },
  {
   "cell_type": "code",
   "execution_count": null,
   "metadata": {},
   "outputs": [],
   "source": [
    "dd[dd.cfs.ne(dd2.cfs)]"
   ]
  },
  {
   "cell_type": "code",
   "execution_count": null,
   "metadata": {},
   "outputs": [],
   "source": [
    "dd.iloc[96246].cfs,dd2.iloc[96246].cfs "
   ]
  },
  {
   "cell_type": "code",
   "execution_count": null,
   "metadata": {},
   "outputs": [],
   "source": [
    "(dd.round(2).equals(\n",
    "                    dd2\n",
    "                        .assign(datetime=dd2.datetime.dt.tz_localize('UTC').dt.tz_convert('America/Denver'))\n",
    "                        .round(2)                              \n",
    "                   )\n",
    ")"
   ]
  },
  {
   "cell_type": "code",
   "execution_count": null,
   "metadata": {},
   "outputs": [],
   "source": [
    "# Function to help diagnose where dataframes are not the same\n",
    "# https://github.com/mattharrison/effective_pandas_book/blob/main/35-debugging-code.ipynb\n",
    "\n",
    "\n",
    "def cmp_dfs(df1, df2, round_amt=3):\n",
    "    diff_cols = set(df1.columns) ^ set(df2.columns)\n",
    "    if diff_cols:\n",
    "        print(f'Different columns {diff_cols}')\n",
    "    if df1.shape != df2.shape:\n",
    "        print(f'Different shapes {df1.shape} {df2.shape}')\n",
    "    bad = False\n",
    "    for col in df1.columns:\n",
    "        s1 = df1[col]\n",
    "        s2 = df2[col]\n",
    "        if s1.equals(s2):\n",
    "            continue\n",
    "        bad = True            \n",
    "        if s1.dtype != s2.dtype:\n",
    "            print(f'{col} types differ {s1.dtype} vs {s2.dtype}')\n",
    "        if s1.dtype == float:\n",
    "            if s1.round(round_amt).equals(s2.round(round_amt)):\n",
    "                print(f'{col} has rounding differences'\n",
    "                      f'{df1[s1.ne(s2)][col].dropna().iloc[0]} '\n",
    "                      f'vs {df2[s1.ne(s2)][col].dropna().iloc[0]}')\n",
    "        else:\n",
    "            print(f'{col} differs {df1[s1.ne(s2)][col].dropna()}')\n",
    "    if not bad:\n",
    "        print('Same')"
   ]
  },
  {
   "cell_type": "code",
   "execution_count": null,
   "metadata": {},
   "outputs": [],
   "source": [
    "cmp_dfs(dd, dd2)"
   ]
  },
  {
   "cell_type": "code",
   "execution_count": null,
   "metadata": {},
   "outputs": [],
   "source": []
  },
  {
   "attachments": {},
   "cell_type": "markdown",
   "metadata": {},
   "source": [
    "35.2 Debugging Chains\n",
    "\n"
   ]
  },
  {
   "cell_type": "code",
   "execution_count": 1,
   "metadata": {},
   "outputs": [
    {
     "name": "stderr",
     "output_type": "stream",
     "text": [
      "C:\\Users\\wgrom\\AppData\\Local\\Temp\\ipykernel_3788\\3584325453.py:2: DtypeWarning: Columns (68,70,71,72,73,74,76,79) have mixed types. Specify dtype option on import or set low_memory=False.\n",
      "  autos = pd.read_csv('https://github.com/mattharrison/datasets/raw/'\n"
     ]
    }
   ],
   "source": [
    "import pandas as pd\n",
    "autos = pd.read_csv('https://github.com/mattharrison/datasets/raw/'\n",
    "    'master/data/vehicles.csv.zip')\n",
    "def to_tz(df_, time_col, tz_offset, tz_name):\n",
    "    return (df_\n",
    "             .groupby(tz_offset)\n",
    "             [time_col]\n",
    "             .transform(lambda s: pd.to_datetime(s)\n",
    "                 .dt.tz_localize(s.name, ambiguous=True)\n",
    "                 .dt.tz_convert(tz_name))\n",
    "            )"
   ]
  },
  {
   "cell_type": "code",
   "execution_count": null,
   "metadata": {},
   "outputs": [],
   "source": [
    "def tweak_autos(autos):\n",
    "    cols = ['city08', 'comb08', 'highway08', 'cylinders',\n",
    "            'displ', 'drive', 'eng_dscr', 'fuelCost08',\n",
    "            'make', 'model', 'trany', 'range', 'createdOn',\n",
    "            'year']\n",
    "    return (autos\n",
    "     [cols]\n",
    "     .assign(cylinders=autos.cylinders.fillna(0).astype('int8'),\n",
    "             displ=autos.displ.fillna(0).astype('float16'),\n",
    "             drive=autos.drive.fillna('Other').astype('category'),\n",
    "             automatic=autos.trany.str.contains('Auto'),\n",
    "             speeds=autos.trany.str.extract(r'(\\d)+').fillna('20')\n",
    "                    .astype('int8'),\n",
    "             offset=autos.createdOn\n",
    "                    .str.extract(r'\\d\\d:\\d\\d ([A-Z]{3}?)')\n",
    "                    .replace('EDT', 'EST5EDT'),\n",
    "             str_date=(autos.createdOn.str.slice(4,19) + ' ' +\n",
    "                       autos.createdOn.str.slice(-4)),\n",
    "             createdOn=lambda df_: to_tz(df_, 'str_date',\n",
    "                       'offset', 'America/New_York'),\n",
    "             ffs=autos.eng_dscr.str.contains('FFS')\n",
    "            )\n",
    "     .astype({'highway08': 'int8', 'city08': 'int16',\n",
    "              'comb08': 'int16', 'fuelCost08': 'int16',\n",
    "              'range': 'int16',  'year': 'int16',\n",
    "              'make': 'category'})\n",
    "     .drop(columns=['trany', 'eng_dscr'])\n",
    "    )"
   ]
  },
  {
   "cell_type": "code",
   "execution_count": null,
   "metadata": {},
   "outputs": [],
   "source": [
    "tweak_autos(autos)"
   ]
  },
  {
   "attachments": {},
   "cell_type": "markdown",
   "metadata": {},
   "source": [
    "35.3 Debugging chains Part 2"
   ]
  },
  {
   "cell_type": "code",
   "execution_count": null,
   "metadata": {},
   "outputs": [],
   "source": [
    "from IPython.display import display, HTML\n",
    "def show(df_, rows=20, cols=30, title=None):\n",
    "    if title:\n",
    "        display(HTML(f'<h2>{title}</h2>'))\n",
    "    with pd.option_context('display.min_rows', rows,\n",
    "                           'display.max_columns', cols):\n",
    "        display(df_)\n",
    "    return df_"
   ]
  },
  {
   "cell_type": "code",
   "execution_count": null,
   "metadata": {},
   "outputs": [],
   "source": [
    "def get_var(df, var_name):\n",
    "    globals()[var_name] = df\n",
    "    return df"
   ]
  },
  {
   "attachments": {},
   "cell_type": "markdown",
   "metadata": {},
   "source": [
    "add the method show to tweek"
   ]
  },
  {
   "cell_type": "code",
   "execution_count": null,
   "metadata": {},
   "outputs": [],
   "source": [
    "def tweak_autos(autos):\n",
    "    cols = ['city08', 'comb08', 'highway08', 'cylinders',\n",
    "            'displ', 'drive', 'eng_dscr', 'fuelCost08',\n",
    "            'make', 'model', 'trany', 'range', 'createdOn',\n",
    "            'year']\n",
    "    return (autos\n",
    "     [cols]\n",
    "     .assign(cylinders=autos.cylinders.fillna(0).astype('int8'),\n",
    "             displ=autos.displ.fillna(0).astype('float16'),\n",
    "             drive=autos.drive.fillna('Other').astype('category'),\n",
    "             automatic=autos.trany.str.contains('Auto'),\n",
    "             speeds=autos.trany.str.extract(r'(\\d)+').fillna('20')\n",
    "                    .astype('int8'),\n",
    "             offset=autos.createdOn\n",
    "                    .str.extract(r'\\d\\d:\\d\\d ([A-Z]{3}?)')\n",
    "                    .replace('EDT', 'EST5EDT'),\n",
    "             str_date=(autos.createdOn.str.slice(4,19) + ' ' +\n",
    "                       autos.createdOn.str.slice(-4)),\n",
    "             createdOn=lambda df_: to_tz(df_, 'str_date',\n",
    "                       'offset', 'America/New_York'),\n",
    "             ffs=autos.eng_dscr.str.contains('FFS')\n",
    "            )\n",
    "     .pipe(show, rows=2 , title='New Columns')\n",
    "     .astype({'highway08': 'int8', 'city08': 'int16',\n",
    "              'comb08': 'int16', 'fuelCost08': 'int16',\n",
    "              'range': 'int16',  'year': 'int16',\n",
    "              'make': 'category'})\n",
    "     .drop(columns=['trany', 'eng_dscr'])\n",
    "    )"
   ]
  },
  {
   "cell_type": "code",
   "execution_count": null,
   "metadata": {},
   "outputs": [],
   "source": [
    "# call tweek_autos() with show\n",
    "\n",
    "tweak_autos(autos)"
   ]
  },
  {
   "attachments": {},
   "cell_type": "markdown",
   "metadata": {},
   "source": [
    "35.4 Debugging Chains Part III"
   ]
  },
  {
   "cell_type": "code",
   "execution_count": null,
   "metadata": {},
   "outputs": [],
   "source": [
    "def tweak_autos(autos):\n",
    "    cols = ['city08', 'comb08', 'highway08', 'cylinders',\n",
    "            'displ', 'drive', 'eng_dscr', 'fuelCost08',\n",
    "            'make', 'model', 'trany', 'range', 'createdOn',\n",
    "            'year']\n",
    "    return (autos\n",
    "     [cols]\n",
    "     .assign(cylinders=autos.cylinders.fillna(0).astype('int8'),\n",
    "             displ=autos.displ.fillna(0).astype('float16'),\n",
    "             drive=autos.drive.fillna('Other').astype('category'),\n",
    "             automatic=autos.trany.str.contains('Auto'),\n",
    "             speeds=autos.trany.str.extract(r'(\\d)+').fillna('20')\n",
    "                    .astype('int8'),\n",
    "             offset=autos.createdOn\n",
    "                    .str.extract(r'\\d\\d:\\d\\d ([A-Z]{3}?)')\n",
    "                    .replace('EDT', 'EST5EDT'),\n",
    "             str_date=(autos.createdOn.str.slice(4,19) + ' ' +\n",
    "                       autos.createdOn.str.slice(-4)),\n",
    "             createdOn=lambda df_: to_tz(df_, 'str_date',\n",
    "                       'offset', 'America/New_York'),\n",
    "             ffs=autos.eng_dscr.str.contains('FFS')\n",
    "            )\n",
    "     .pipe(get_var, 'new_cols')\n",
    "     .astype({'highway08': 'int8', 'city08': 'int16',\n",
    "              'comb08': 'int16', 'fuelCost08': 'int16',\n",
    "              'range': 'int16',  'year': 'int16',\n",
    "              'make': 'category'})\n",
    "     .drop(columns=['trany', 'eng_dscr'])\n",
    "    )"
   ]
  },
  {
   "cell_type": "code",
   "execution_count": null,
   "metadata": {},
   "outputs": [],
   "source": [
    "# call tweek_autos() with get_var()\n",
    "\n",
    "res = tweak_autos(autos)\n"
   ]
  },
  {
   "cell_type": "code",
   "execution_count": null,
   "metadata": {},
   "outputs": [],
   "source": [
    "# the variable below new_cols is defined in the pipe() call\n",
    "\n",
    "new_cols"
   ]
  },
  {
   "attachments": {},
   "cell_type": "markdown",
   "metadata": {},
   "source": [
    "35.5 Debugging Chains Part IV"
   ]
  },
  {
   "cell_type": "code",
   "execution_count": 2,
   "metadata": {},
   "outputs": [],
   "source": [
    "def err(*args):\n",
    "    1/0"
   ]
  },
  {
   "cell_type": "code",
   "execution_count": 3,
   "metadata": {},
   "outputs": [],
   "source": [
    "def tweak_autos(autos):\n",
    "    cols = ['city08', 'comb08', 'highway08', 'cylinders',\n",
    "            'displ', 'drive', 'eng_dscr', 'fuelCost08',\n",
    "            'make', 'model', 'trany', 'range', 'createdOn',\n",
    "            'year']\n",
    "    return (autos\n",
    "     [cols]\n",
    "     .assign(cylinders=autos.cylinders.fillna(0).astype('int8'),\n",
    "             displ=autos.displ.fillna(0).astype('float16'),\n",
    "             drive=autos.drive.fillna('Other').astype('category'),\n",
    "             automatic=autos.trany.str.contains('Auto'),\n",
    "             speeds=autos.trany.str.extract(r'(\\d)+').fillna('20')\n",
    "                    .astype('int8'),\n",
    "             offset=autos.createdOn\n",
    "                    .str.extract(r'\\d\\d:\\d\\d ([A-Z]{3}?)')\n",
    "                    .replace('EDT', 'EST5EDT'),\n",
    "             str_date=(autos.createdOn.str.slice(4,19) + ' ' +\n",
    "                       autos.createdOn.str.slice(-4)),\n",
    "             createdOn=lambda df_: to_tz(df_, 'str_date',\n",
    "                       'offset', 'America/New_York'),\n",
    "             ffs=autos.eng_dscr.str.contains('FFS')\n",
    "            )\n",
    "     .pipe(err)\n",
    "     .astype({'highway08': 'int8', 'city08': 'int16',\n",
    "              'comb08': 'int16', 'fuelCost08': 'int16',\n",
    "              'range': 'int16',  'year': 'int16',\n",
    "              'make': 'category'})\n",
    "     .drop(columns=['trany', 'eng_dscr'])\n",
    "    )"
   ]
  },
  {
   "cell_type": "code",
   "execution_count": null,
   "metadata": {},
   "outputs": [],
   "source": [
    "# replace err with this function\n",
    "#from IPython.core.debugger import set_trace\n",
    "#def err(*args):\n",
    "#    set_trace()"
   ]
  },
  {
   "cell_type": "code",
   "execution_count": 5,
   "metadata": {},
   "outputs": [
    {
     "ename": "ZeroDivisionError",
     "evalue": "division by zero",
     "output_type": "error",
     "traceback": [
      "\u001b[1;31m---------------------------------------------------------------------------\u001b[0m",
      "\u001b[1;31mZeroDivisionError\u001b[0m                         Traceback (most recent call last)",
      "Cell \u001b[1;32mIn[5], line 2\u001b[0m\n\u001b[0;32m      1\u001b[0m \u001b[39m# running this will cause a ZeroDivisionError: division by zero\u001b[39;00m\n\u001b[1;32m----> 2\u001b[0m res \u001b[39m=\u001b[39m tweak_autos(autos)\n",
      "Cell \u001b[1;32mIn[3], line 6\u001b[0m, in \u001b[0;36mtweak_autos\u001b[1;34m(autos)\u001b[0m\n\u001b[0;32m      1\u001b[0m \u001b[39mdef\u001b[39;00m \u001b[39mtweak_autos\u001b[39m(autos):\n\u001b[0;32m      2\u001b[0m     cols \u001b[39m=\u001b[39m [\u001b[39m'\u001b[39m\u001b[39mcity08\u001b[39m\u001b[39m'\u001b[39m, \u001b[39m'\u001b[39m\u001b[39mcomb08\u001b[39m\u001b[39m'\u001b[39m, \u001b[39m'\u001b[39m\u001b[39mhighway08\u001b[39m\u001b[39m'\u001b[39m, \u001b[39m'\u001b[39m\u001b[39mcylinders\u001b[39m\u001b[39m'\u001b[39m,\n\u001b[0;32m      3\u001b[0m             \u001b[39m'\u001b[39m\u001b[39mdispl\u001b[39m\u001b[39m'\u001b[39m, \u001b[39m'\u001b[39m\u001b[39mdrive\u001b[39m\u001b[39m'\u001b[39m, \u001b[39m'\u001b[39m\u001b[39meng_dscr\u001b[39m\u001b[39m'\u001b[39m, \u001b[39m'\u001b[39m\u001b[39mfuelCost08\u001b[39m\u001b[39m'\u001b[39m,\n\u001b[0;32m      4\u001b[0m             \u001b[39m'\u001b[39m\u001b[39mmake\u001b[39m\u001b[39m'\u001b[39m, \u001b[39m'\u001b[39m\u001b[39mmodel\u001b[39m\u001b[39m'\u001b[39m, \u001b[39m'\u001b[39m\u001b[39mtrany\u001b[39m\u001b[39m'\u001b[39m, \u001b[39m'\u001b[39m\u001b[39mrange\u001b[39m\u001b[39m'\u001b[39m, \u001b[39m'\u001b[39m\u001b[39mcreatedOn\u001b[39m\u001b[39m'\u001b[39m,\n\u001b[0;32m      5\u001b[0m             \u001b[39m'\u001b[39m\u001b[39myear\u001b[39m\u001b[39m'\u001b[39m]\n\u001b[1;32m----> 6\u001b[0m     \u001b[39mreturn\u001b[39;00m (autos\n\u001b[0;32m      7\u001b[0m      [cols]\n\u001b[0;32m      8\u001b[0m      \u001b[39m.\u001b[39;49massign(cylinders\u001b[39m=\u001b[39;49mautos\u001b[39m.\u001b[39;49mcylinders\u001b[39m.\u001b[39;49mfillna(\u001b[39m0\u001b[39;49m)\u001b[39m.\u001b[39;49mastype(\u001b[39m'\u001b[39;49m\u001b[39mint8\u001b[39;49m\u001b[39m'\u001b[39;49m),\n\u001b[0;32m      9\u001b[0m              displ\u001b[39m=\u001b[39;49mautos\u001b[39m.\u001b[39;49mdispl\u001b[39m.\u001b[39;49mfillna(\u001b[39m0\u001b[39;49m)\u001b[39m.\u001b[39;49mastype(\u001b[39m'\u001b[39;49m\u001b[39mfloat16\u001b[39;49m\u001b[39m'\u001b[39;49m),\n\u001b[0;32m     10\u001b[0m              drive\u001b[39m=\u001b[39;49mautos\u001b[39m.\u001b[39;49mdrive\u001b[39m.\u001b[39;49mfillna(\u001b[39m'\u001b[39;49m\u001b[39mOther\u001b[39;49m\u001b[39m'\u001b[39;49m)\u001b[39m.\u001b[39;49mastype(\u001b[39m'\u001b[39;49m\u001b[39mcategory\u001b[39;49m\u001b[39m'\u001b[39;49m),\n\u001b[0;32m     11\u001b[0m              automatic\u001b[39m=\u001b[39;49mautos\u001b[39m.\u001b[39;49mtrany\u001b[39m.\u001b[39;49mstr\u001b[39m.\u001b[39;49mcontains(\u001b[39m'\u001b[39;49m\u001b[39mAuto\u001b[39;49m\u001b[39m'\u001b[39;49m),\n\u001b[0;32m     12\u001b[0m              speeds\u001b[39m=\u001b[39;49mautos\u001b[39m.\u001b[39;49mtrany\u001b[39m.\u001b[39;49mstr\u001b[39m.\u001b[39;49mextract(\u001b[39mr\u001b[39;49m\u001b[39m'\u001b[39;49m\u001b[39m(\u001b[39;49m\u001b[39m\\\u001b[39;49m\u001b[39md)+\u001b[39;49m\u001b[39m'\u001b[39;49m)\u001b[39m.\u001b[39;49mfillna(\u001b[39m'\u001b[39;49m\u001b[39m20\u001b[39;49m\u001b[39m'\u001b[39;49m)\n\u001b[0;32m     13\u001b[0m                     \u001b[39m.\u001b[39;49mastype(\u001b[39m'\u001b[39;49m\u001b[39mint8\u001b[39;49m\u001b[39m'\u001b[39;49m),\n\u001b[0;32m     14\u001b[0m              offset\u001b[39m=\u001b[39;49mautos\u001b[39m.\u001b[39;49mcreatedOn\n\u001b[0;32m     15\u001b[0m                     \u001b[39m.\u001b[39;49mstr\u001b[39m.\u001b[39;49mextract(\u001b[39mr\u001b[39;49m\u001b[39m'\u001b[39;49m\u001b[39m\\\u001b[39;49m\u001b[39md\u001b[39;49m\u001b[39m\\\u001b[39;49m\u001b[39md:\u001b[39;49m\u001b[39m\\\u001b[39;49m\u001b[39md\u001b[39;49m\u001b[39m\\\u001b[39;49m\u001b[39md ([A-Z]\u001b[39;49m\u001b[39m{3}\u001b[39;49;00m\u001b[39m?)\u001b[39;49m\u001b[39m'\u001b[39;49m)\n\u001b[0;32m     16\u001b[0m                     \u001b[39m.\u001b[39;49mreplace(\u001b[39m'\u001b[39;49m\u001b[39mEDT\u001b[39;49m\u001b[39m'\u001b[39;49m, \u001b[39m'\u001b[39;49m\u001b[39mEST5EDT\u001b[39;49m\u001b[39m'\u001b[39;49m),\n\u001b[0;32m     17\u001b[0m              str_date\u001b[39m=\u001b[39;49m(autos\u001b[39m.\u001b[39;49mcreatedOn\u001b[39m.\u001b[39;49mstr\u001b[39m.\u001b[39;49mslice(\u001b[39m4\u001b[39;49m,\u001b[39m19\u001b[39;49m) \u001b[39m+\u001b[39;49m \u001b[39m'\u001b[39;49m\u001b[39m \u001b[39;49m\u001b[39m'\u001b[39;49m \u001b[39m+\u001b[39;49m\n\u001b[0;32m     18\u001b[0m                        autos\u001b[39m.\u001b[39;49mcreatedOn\u001b[39m.\u001b[39;49mstr\u001b[39m.\u001b[39;49mslice(\u001b[39m-\u001b[39;49m\u001b[39m4\u001b[39;49m)),\n\u001b[0;32m     19\u001b[0m              createdOn\u001b[39m=\u001b[39;49m\u001b[39mlambda\u001b[39;49;00m df_: to_tz(df_, \u001b[39m'\u001b[39;49m\u001b[39mstr_date\u001b[39;49m\u001b[39m'\u001b[39;49m,\n\u001b[0;32m     20\u001b[0m                        \u001b[39m'\u001b[39;49m\u001b[39moffset\u001b[39;49m\u001b[39m'\u001b[39;49m, \u001b[39m'\u001b[39;49m\u001b[39mAmerica/New_York\u001b[39;49m\u001b[39m'\u001b[39;49m),\n\u001b[0;32m     21\u001b[0m              ffs\u001b[39m=\u001b[39;49mautos\u001b[39m.\u001b[39;49meng_dscr\u001b[39m.\u001b[39;49mstr\u001b[39m.\u001b[39;49mcontains(\u001b[39m'\u001b[39;49m\u001b[39mFFS\u001b[39;49m\u001b[39m'\u001b[39;49m)\n\u001b[0;32m     22\u001b[0m             )\n\u001b[0;32m     23\u001b[0m      \u001b[39m.\u001b[39;49mpipe(err)\n\u001b[0;32m     24\u001b[0m      \u001b[39m.\u001b[39mastype({\u001b[39m'\u001b[39m\u001b[39mhighway08\u001b[39m\u001b[39m'\u001b[39m: \u001b[39m'\u001b[39m\u001b[39mint8\u001b[39m\u001b[39m'\u001b[39m, \u001b[39m'\u001b[39m\u001b[39mcity08\u001b[39m\u001b[39m'\u001b[39m: \u001b[39m'\u001b[39m\u001b[39mint16\u001b[39m\u001b[39m'\u001b[39m,\n\u001b[0;32m     25\u001b[0m               \u001b[39m'\u001b[39m\u001b[39mcomb08\u001b[39m\u001b[39m'\u001b[39m: \u001b[39m'\u001b[39m\u001b[39mint16\u001b[39m\u001b[39m'\u001b[39m, \u001b[39m'\u001b[39m\u001b[39mfuelCost08\u001b[39m\u001b[39m'\u001b[39m: \u001b[39m'\u001b[39m\u001b[39mint16\u001b[39m\u001b[39m'\u001b[39m,\n\u001b[0;32m     26\u001b[0m               \u001b[39m'\u001b[39m\u001b[39mrange\u001b[39m\u001b[39m'\u001b[39m: \u001b[39m'\u001b[39m\u001b[39mint16\u001b[39m\u001b[39m'\u001b[39m,  \u001b[39m'\u001b[39m\u001b[39myear\u001b[39m\u001b[39m'\u001b[39m: \u001b[39m'\u001b[39m\u001b[39mint16\u001b[39m\u001b[39m'\u001b[39m,\n\u001b[0;32m     27\u001b[0m               \u001b[39m'\u001b[39m\u001b[39mmake\u001b[39m\u001b[39m'\u001b[39m: \u001b[39m'\u001b[39m\u001b[39mcategory\u001b[39m\u001b[39m'\u001b[39m})\n\u001b[0;32m     28\u001b[0m      \u001b[39m.\u001b[39mdrop(columns\u001b[39m=\u001b[39m[\u001b[39m'\u001b[39m\u001b[39mtrany\u001b[39m\u001b[39m'\u001b[39m, \u001b[39m'\u001b[39m\u001b[39meng_dscr\u001b[39m\u001b[39m'\u001b[39m])\n\u001b[0;32m     29\u001b[0m     )\n",
      "File \u001b[1;32me:\\Users\\wgrom\\anaconda3\\lib\\site-packages\\pandas\\core\\generic.py:5512\u001b[0m, in \u001b[0;36mNDFrame.pipe\u001b[1;34m(self, func, *args, **kwargs)\u001b[0m\n\u001b[0;32m   5454\u001b[0m \u001b[39m@final\u001b[39m\n\u001b[0;32m   5455\u001b[0m \u001b[39m@doc\u001b[39m(klass\u001b[39m=\u001b[39m_shared_doc_kwargs[\u001b[39m\"\u001b[39m\u001b[39mklass\u001b[39m\u001b[39m\"\u001b[39m])\n\u001b[0;32m   5456\u001b[0m \u001b[39mdef\u001b[39;00m \u001b[39mpipe\u001b[39m(\n\u001b[1;32m   (...)\u001b[0m\n\u001b[0;32m   5460\u001b[0m     \u001b[39m*\u001b[39m\u001b[39m*\u001b[39mkwargs,\n\u001b[0;32m   5461\u001b[0m ) \u001b[39m-\u001b[39m\u001b[39m>\u001b[39m T:\n\u001b[0;32m   5462\u001b[0m     \u001b[39mr\u001b[39m\u001b[39m\"\"\"\u001b[39;00m\n\u001b[0;32m   5463\u001b[0m \u001b[39m    Apply chainable functions that expect Series or DataFrames.\u001b[39;00m\n\u001b[0;32m   5464\u001b[0m \n\u001b[1;32m   (...)\u001b[0m\n\u001b[0;32m   5510\u001b[0m \u001b[39m    ...  )  # doctest: +SKIP\u001b[39;00m\n\u001b[0;32m   5511\u001b[0m \u001b[39m    \"\"\"\u001b[39;00m\n\u001b[1;32m-> 5512\u001b[0m     \u001b[39mreturn\u001b[39;00m com\u001b[39m.\u001b[39mpipe(\u001b[39mself\u001b[39m, func, \u001b[39m*\u001b[39margs, \u001b[39m*\u001b[39m\u001b[39m*\u001b[39mkwargs)\n",
      "File \u001b[1;32me:\\Users\\wgrom\\anaconda3\\lib\\site-packages\\pandas\\core\\common.py:497\u001b[0m, in \u001b[0;36mpipe\u001b[1;34m(obj, func, *args, **kwargs)\u001b[0m\n\u001b[0;32m    495\u001b[0m     \u001b[39mreturn\u001b[39;00m func(\u001b[39m*\u001b[39margs, \u001b[39m*\u001b[39m\u001b[39m*\u001b[39mkwargs)\n\u001b[0;32m    496\u001b[0m \u001b[39melse\u001b[39;00m:\n\u001b[1;32m--> 497\u001b[0m     \u001b[39mreturn\u001b[39;00m func(obj, \u001b[39m*\u001b[39margs, \u001b[39m*\u001b[39m\u001b[39m*\u001b[39mkwargs)\n",
      "Cell \u001b[1;32mIn[2], line 2\u001b[0m, in \u001b[0;36merr\u001b[1;34m(*args)\u001b[0m\n\u001b[0;32m      1\u001b[0m \u001b[39mdef\u001b[39;00m \u001b[39merr\u001b[39m(\u001b[39m*\u001b[39margs):\n\u001b[1;32m----> 2\u001b[0m     \u001b[39m1\u001b[39;49m\u001b[39m/\u001b[39;49m\u001b[39m0\u001b[39;49m\n",
      "\u001b[1;31mZeroDivisionError\u001b[0m: division by zero"
     ]
    }
   ],
   "source": [
    "# running this will cause a ZeroDivisionError: division by zero\n",
    "res = tweak_autos(autos)"
   ]
  }
 ],
 "metadata": {
  "kernelspec": {
   "display_name": "Python 3 (ipykernel)",
   "language": "python",
   "name": "python3"
  },
  "language_info": {
   "codemirror_mode": {
    "name": "ipython",
    "version": 3
   },
   "file_extension": ".py",
   "mimetype": "text/x-python",
   "name": "python",
   "nbconvert_exporter": "python",
   "pygments_lexer": "ipython3",
   "version": "3.9.15"
  },
  "orig_nbformat": 4,
  "vscode": {
   "interpreter": {
    "hash": "942bb7d924bc59037bd6d0b70197e5f1c049379bb31e98466f77a36d9d06bc68"
   }
  }
 },
 "nbformat": 4,
 "nbformat_minor": 2
}
