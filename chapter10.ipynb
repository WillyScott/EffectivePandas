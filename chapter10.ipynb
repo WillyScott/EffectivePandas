{
 "cells": [
  {
   "cell_type": "code",
   "execution_count": 8,
   "metadata": {},
   "outputs": [],
   "source": [
    "import pandas as pd\n",
    "import numpy as np"
   ]
  },
  {
   "cell_type": "code",
   "execution_count": 9,
   "metadata": {},
   "outputs": [
    {
     "name": "stderr",
     "output_type": "stream",
     "text": [
      "C:\\Users\\wgrom\\AppData\\Local\\Temp\\ipykernel_4780\\3320753874.py:2: DtypeWarning: Columns (68,70,71,72,73,74,76,79) have mixed types. Specify dtype option on import or set low_memory=False.\n",
      "  df = pd.read_csv(url)\n"
     ]
    }
   ],
   "source": [
    "url = 'https://github.com/mattharrison/datasets/raw/master/data/vehicles.csv.zip'\n",
    "df = pd.read_csv(url)\n",
    "\n",
    "city_mpg = df.city08\n",
    "highway_mpg = df.highway08"
   ]
  },
  {
   "cell_type": "code",
   "execution_count": 3,
   "metadata": {},
   "outputs": [
    {
     "data": {
      "text/html": [
       "<div>\n",
       "<style scoped>\n",
       "    .dataframe tbody tr th:only-of-type {\n",
       "        vertical-align: middle;\n",
       "    }\n",
       "\n",
       "    .dataframe tbody tr th {\n",
       "        vertical-align: top;\n",
       "    }\n",
       "\n",
       "    .dataframe thead th {\n",
       "        text-align: right;\n",
       "    }\n",
       "</style>\n",
       "<table border=\"1\" class=\"dataframe\">\n",
       "  <thead>\n",
       "    <tr style=\"text-align: right;\">\n",
       "      <th></th>\n",
       "      <th>barrels08</th>\n",
       "      <th>barrelsA08</th>\n",
       "      <th>charge120</th>\n",
       "      <th>charge240</th>\n",
       "      <th>city08</th>\n",
       "      <th>city08U</th>\n",
       "      <th>cityA08</th>\n",
       "      <th>cityA08U</th>\n",
       "      <th>cityCD</th>\n",
       "      <th>cityE</th>\n",
       "      <th>...</th>\n",
       "      <th>UCity</th>\n",
       "      <th>UCityA</th>\n",
       "      <th>UHighway</th>\n",
       "      <th>UHighwayA</th>\n",
       "      <th>year</th>\n",
       "      <th>youSaveSpend</th>\n",
       "      <th>charge240b</th>\n",
       "      <th>phevCity</th>\n",
       "      <th>phevHwy</th>\n",
       "      <th>phevComb</th>\n",
       "    </tr>\n",
       "  </thead>\n",
       "  <tbody>\n",
       "    <tr>\n",
       "      <th>count</th>\n",
       "      <td>41144.000000</td>\n",
       "      <td>41144.000000</td>\n",
       "      <td>41144.0</td>\n",
       "      <td>41144.000000</td>\n",
       "      <td>41144.000000</td>\n",
       "      <td>41144.000000</td>\n",
       "      <td>41144.000000</td>\n",
       "      <td>41144.000000</td>\n",
       "      <td>41144.000000</td>\n",
       "      <td>41144.000000</td>\n",
       "      <td>...</td>\n",
       "      <td>41144.000000</td>\n",
       "      <td>41144.000000</td>\n",
       "      <td>41144.000000</td>\n",
       "      <td>41144.000000</td>\n",
       "      <td>41144.000000</td>\n",
       "      <td>41144.000000</td>\n",
       "      <td>41144.000000</td>\n",
       "      <td>41144.000000</td>\n",
       "      <td>41144.000000</td>\n",
       "      <td>41144.000000</td>\n",
       "    </tr>\n",
       "    <tr>\n",
       "      <th>mean</th>\n",
       "      <td>17.283900</td>\n",
       "      <td>0.220294</td>\n",
       "      <td>0.0</td>\n",
       "      <td>0.044872</td>\n",
       "      <td>18.369045</td>\n",
       "      <td>5.978814</td>\n",
       "      <td>0.665808</td>\n",
       "      <td>0.519901</td>\n",
       "      <td>0.000461</td>\n",
       "      <td>0.322713</td>\n",
       "      <td>...</td>\n",
       "      <td>23.204206</td>\n",
       "      <td>0.861106</td>\n",
       "      <td>34.343752</td>\n",
       "      <td>1.144059</td>\n",
       "      <td>2001.535266</td>\n",
       "      <td>-4056.132121</td>\n",
       "      <td>0.009668</td>\n",
       "      <td>0.153339</td>\n",
       "      <td>0.152999</td>\n",
       "      <td>0.152513</td>\n",
       "    </tr>\n",
       "    <tr>\n",
       "      <th>std</th>\n",
       "      <td>4.623232</td>\n",
       "      <td>1.140919</td>\n",
       "      <td>0.0</td>\n",
       "      <td>0.602894</td>\n",
       "      <td>7.905886</td>\n",
       "      <td>11.644783</td>\n",
       "      <td>5.225626</td>\n",
       "      <td>5.074261</td>\n",
       "      <td>0.038774</td>\n",
       "      <td>3.788006</td>\n",
       "      <td>...</td>\n",
       "      <td>11.232357</td>\n",
       "      <td>7.325415</td>\n",
       "      <td>11.259252</td>\n",
       "      <td>7.765665</td>\n",
       "      <td>11.142414</td>\n",
       "      <td>3281.796526</td>\n",
       "      <td>0.232397</td>\n",
       "      <td>2.946152</td>\n",
       "      <td>2.825546</td>\n",
       "      <td>2.873408</td>\n",
       "    </tr>\n",
       "    <tr>\n",
       "      <th>min</th>\n",
       "      <td>0.060000</td>\n",
       "      <td>0.000000</td>\n",
       "      <td>0.0</td>\n",
       "      <td>0.000000</td>\n",
       "      <td>6.000000</td>\n",
       "      <td>0.000000</td>\n",
       "      <td>0.000000</td>\n",
       "      <td>0.000000</td>\n",
       "      <td>0.000000</td>\n",
       "      <td>0.000000</td>\n",
       "      <td>...</td>\n",
       "      <td>0.000000</td>\n",
       "      <td>0.000000</td>\n",
       "      <td>0.000000</td>\n",
       "      <td>0.000000</td>\n",
       "      <td>1984.000000</td>\n",
       "      <td>-29250.000000</td>\n",
       "      <td>0.000000</td>\n",
       "      <td>0.000000</td>\n",
       "      <td>0.000000</td>\n",
       "      <td>0.000000</td>\n",
       "    </tr>\n",
       "    <tr>\n",
       "      <th>25%</th>\n",
       "      <td>14.330870</td>\n",
       "      <td>0.000000</td>\n",
       "      <td>0.0</td>\n",
       "      <td>0.000000</td>\n",
       "      <td>15.000000</td>\n",
       "      <td>0.000000</td>\n",
       "      <td>0.000000</td>\n",
       "      <td>0.000000</td>\n",
       "      <td>0.000000</td>\n",
       "      <td>0.000000</td>\n",
       "      <td>...</td>\n",
       "      <td>18.239750</td>\n",
       "      <td>0.000000</td>\n",
       "      <td>27.895500</td>\n",
       "      <td>0.000000</td>\n",
       "      <td>1991.000000</td>\n",
       "      <td>-5750.000000</td>\n",
       "      <td>0.000000</td>\n",
       "      <td>0.000000</td>\n",
       "      <td>0.000000</td>\n",
       "      <td>0.000000</td>\n",
       "    </tr>\n",
       "    <tr>\n",
       "      <th>50%</th>\n",
       "      <td>16.480500</td>\n",
       "      <td>0.000000</td>\n",
       "      <td>0.0</td>\n",
       "      <td>0.000000</td>\n",
       "      <td>17.000000</td>\n",
       "      <td>0.000000</td>\n",
       "      <td>0.000000</td>\n",
       "      <td>0.000000</td>\n",
       "      <td>0.000000</td>\n",
       "      <td>0.000000</td>\n",
       "      <td>...</td>\n",
       "      <td>21.400000</td>\n",
       "      <td>0.000000</td>\n",
       "      <td>33.235700</td>\n",
       "      <td>0.000000</td>\n",
       "      <td>2002.000000</td>\n",
       "      <td>-4000.000000</td>\n",
       "      <td>0.000000</td>\n",
       "      <td>0.000000</td>\n",
       "      <td>0.000000</td>\n",
       "      <td>0.000000</td>\n",
       "    </tr>\n",
       "    <tr>\n",
       "      <th>75%</th>\n",
       "      <td>19.388824</td>\n",
       "      <td>0.000000</td>\n",
       "      <td>0.0</td>\n",
       "      <td>0.000000</td>\n",
       "      <td>20.000000</td>\n",
       "      <td>14.055000</td>\n",
       "      <td>0.000000</td>\n",
       "      <td>0.000000</td>\n",
       "      <td>0.000000</td>\n",
       "      <td>0.000000</td>\n",
       "      <td>...</td>\n",
       "      <td>25.900375</td>\n",
       "      <td>0.000000</td>\n",
       "      <td>39.000000</td>\n",
       "      <td>0.000000</td>\n",
       "      <td>2011.000000</td>\n",
       "      <td>-1750.000000</td>\n",
       "      <td>0.000000</td>\n",
       "      <td>0.000000</td>\n",
       "      <td>0.000000</td>\n",
       "      <td>0.000000</td>\n",
       "    </tr>\n",
       "    <tr>\n",
       "      <th>max</th>\n",
       "      <td>47.087143</td>\n",
       "      <td>18.311667</td>\n",
       "      <td>0.0</td>\n",
       "      <td>13.000000</td>\n",
       "      <td>150.000000</td>\n",
       "      <td>150.000000</td>\n",
       "      <td>145.000000</td>\n",
       "      <td>145.083500</td>\n",
       "      <td>5.350000</td>\n",
       "      <td>122.000000</td>\n",
       "      <td>...</td>\n",
       "      <td>224.800000</td>\n",
       "      <td>207.262200</td>\n",
       "      <td>182.700000</td>\n",
       "      <td>173.143600</td>\n",
       "      <td>2020.000000</td>\n",
       "      <td>5250.000000</td>\n",
       "      <td>8.500000</td>\n",
       "      <td>97.000000</td>\n",
       "      <td>81.000000</td>\n",
       "      <td>88.000000</td>\n",
       "    </tr>\n",
       "  </tbody>\n",
       "</table>\n",
       "<p>8 rows × 59 columns</p>\n",
       "</div>"
      ],
      "text/plain": [
       "          barrels08    barrelsA08  charge120     charge240        city08  \\\n",
       "count  41144.000000  41144.000000    41144.0  41144.000000  41144.000000   \n",
       "mean      17.283900      0.220294        0.0      0.044872     18.369045   \n",
       "std        4.623232      1.140919        0.0      0.602894      7.905886   \n",
       "min        0.060000      0.000000        0.0      0.000000      6.000000   \n",
       "25%       14.330870      0.000000        0.0      0.000000     15.000000   \n",
       "50%       16.480500      0.000000        0.0      0.000000     17.000000   \n",
       "75%       19.388824      0.000000        0.0      0.000000     20.000000   \n",
       "max       47.087143     18.311667        0.0     13.000000    150.000000   \n",
       "\n",
       "            city08U       cityA08      cityA08U        cityCD         cityE  \\\n",
       "count  41144.000000  41144.000000  41144.000000  41144.000000  41144.000000   \n",
       "mean       5.978814      0.665808      0.519901      0.000461      0.322713   \n",
       "std       11.644783      5.225626      5.074261      0.038774      3.788006   \n",
       "min        0.000000      0.000000      0.000000      0.000000      0.000000   \n",
       "25%        0.000000      0.000000      0.000000      0.000000      0.000000   \n",
       "50%        0.000000      0.000000      0.000000      0.000000      0.000000   \n",
       "75%       14.055000      0.000000      0.000000      0.000000      0.000000   \n",
       "max      150.000000    145.000000    145.083500      5.350000    122.000000   \n",
       "\n",
       "       ...         UCity        UCityA      UHighway     UHighwayA  \\\n",
       "count  ...  41144.000000  41144.000000  41144.000000  41144.000000   \n",
       "mean   ...     23.204206      0.861106     34.343752      1.144059   \n",
       "std    ...     11.232357      7.325415     11.259252      7.765665   \n",
       "min    ...      0.000000      0.000000      0.000000      0.000000   \n",
       "25%    ...     18.239750      0.000000     27.895500      0.000000   \n",
       "50%    ...     21.400000      0.000000     33.235700      0.000000   \n",
       "75%    ...     25.900375      0.000000     39.000000      0.000000   \n",
       "max    ...    224.800000    207.262200    182.700000    173.143600   \n",
       "\n",
       "               year  youSaveSpend    charge240b      phevCity       phevHwy  \\\n",
       "count  41144.000000  41144.000000  41144.000000  41144.000000  41144.000000   \n",
       "mean    2001.535266  -4056.132121      0.009668      0.153339      0.152999   \n",
       "std       11.142414   3281.796526      0.232397      2.946152      2.825546   \n",
       "min     1984.000000 -29250.000000      0.000000      0.000000      0.000000   \n",
       "25%     1991.000000  -5750.000000      0.000000      0.000000      0.000000   \n",
       "50%     2002.000000  -4000.000000      0.000000      0.000000      0.000000   \n",
       "75%     2011.000000  -1750.000000      0.000000      0.000000      0.000000   \n",
       "max     2020.000000   5250.000000      8.500000     97.000000     81.000000   \n",
       "\n",
       "           phevComb  \n",
       "count  41144.000000  \n",
       "mean       0.152513  \n",
       "std        2.873408  \n",
       "min        0.000000  \n",
       "25%        0.000000  \n",
       "50%        0.000000  \n",
       "75%        0.000000  \n",
       "max       88.000000  \n",
       "\n",
       "[8 rows x 59 columns]"
      ]
     },
     "execution_count": 3,
     "metadata": {},
     "output_type": "execute_result"
    }
   ],
   "source": [
    "df.describe()"
   ]
  },
  {
   "cell_type": "code",
   "execution_count": 10,
   "metadata": {},
   "outputs": [],
   "source": [
    "make = df.make"
   ]
  },
  {
   "cell_type": "code",
   "execution_count": 11,
   "metadata": {},
   "outputs": [],
   "source": [
    "city2 = city_mpg.rename(make.to_dict())\n"
   ]
  },
  {
   "cell_type": "code",
   "execution_count": 12,
   "metadata": {},
   "outputs": [
    {
     "data": {
      "text/plain": [
       "Alfa Romeo    19\n",
       "Ferrari        9\n",
       "Dodge         23\n",
       "Dodge         10\n",
       "Subaru        17\n",
       "              ..\n",
       "Subaru        19\n",
       "Subaru        20\n",
       "Subaru        18\n",
       "Subaru        18\n",
       "Subaru        16\n",
       "Name: city08, Length: 41144, dtype: int64"
      ]
     },
     "execution_count": 12,
     "metadata": {},
     "output_type": "execute_result"
    }
   ],
   "source": [
    "city2"
   ]
  },
  {
   "cell_type": "code",
   "execution_count": 13,
   "metadata": {},
   "outputs": [
    {
     "data": {
      "text/plain": [
       "Subaru    17\n",
       "Subaru    21\n",
       "Subaru    22\n",
       "Subaru    19\n",
       "Subaru    20\n",
       "          ..\n",
       "Subaru    19\n",
       "Subaru    20\n",
       "Subaru    18\n",
       "Subaru    18\n",
       "Subaru    16\n",
       "Name: city08, Length: 885, dtype: int64"
      ]
     },
     "execution_count": 13,
     "metadata": {},
     "output_type": "execute_result"
    }
   ],
   "source": [
    "city2.loc['Subaru' ]"
   ]
  },
  {
   "cell_type": "code",
   "execution_count": 7,
   "metadata": {},
   "outputs": [
    {
     "data": {
      "text/plain": [
       "0        19\n",
       "1         9\n",
       "2        23\n",
       "3        10\n",
       "4        17\n",
       "         ..\n",
       "41139    19\n",
       "41140    20\n",
       "41141    18\n",
       "41142    18\n",
       "41143    16\n",
       "Name: city08, Length: 41144, dtype: int64"
      ]
     },
     "execution_count": 7,
     "metadata": {},
     "output_type": "execute_result"
    }
   ],
   "source": [
    "city_mpg"
   ]
  },
  {
   "cell_type": "code",
   "execution_count": 8,
   "metadata": {},
   "outputs": [],
   "source": [
    "s_list = ('Dave', 'Suze', 'Adam', 'Liv')\n",
    "\n",
    "s = pd.Series(s_list)"
   ]
  },
  {
   "cell_type": "code",
   "execution_count": 9,
   "metadata": {},
   "outputs": [
    {
     "data": {
      "text/plain": [
       "0    Dave\n",
       "1    Suze\n",
       "2    Adam\n",
       "3     Liv\n",
       "dtype: object"
      ]
     },
     "execution_count": 9,
     "metadata": {},
     "output_type": "execute_result"
    }
   ],
   "source": [
    "s"
   ]
  },
  {
   "cell_type": "code",
   "execution_count": 11,
   "metadata": {},
   "outputs": [
    {
     "data": {
      "text/plain": [
       "first    Dave\n",
       "1        Suze\n",
       "2        Adam\n",
       "3         Liv\n",
       "dtype: object"
      ]
     },
     "execution_count": 11,
     "metadata": {},
     "output_type": "execute_result"
    }
   ],
   "source": [
    "s.rename(index={0:'first'})"
   ]
  },
  {
   "cell_type": "code",
   "execution_count": 12,
   "metadata": {},
   "outputs": [
    {
     "data": {
      "text/plain": [
       "idx-0    Dave\n",
       "idx-1    Suze\n",
       "idx-2    Adam\n",
       "idx-3     Liv\n",
       "dtype: object"
      ]
     },
     "execution_count": 12,
     "metadata": {},
     "output_type": "execute_result"
    }
   ],
   "source": [
    "def to_str(val):\n",
    "    return f\"idx-{val}\"\n",
    "\n",
    "s.rename(to_str)"
   ]
  },
  {
   "cell_type": "code",
   "execution_count": 17,
   "metadata": {},
   "outputs": [
    {
     "data": {
      "text/plain": [
       "array(['Dave', 'Suze', 'Adam', 'Liv'], dtype=object)"
      ]
     },
     "execution_count": 17,
     "metadata": {},
     "output_type": "execute_result"
    }
   ],
   "source": [
    "s.index\n",
    "\n",
    "s.values"
   ]
  },
  {
   "cell_type": "code",
   "execution_count": 15,
   "metadata": {},
   "outputs": [
    {
     "data": {
      "text/plain": [
       "a    Dave\n",
       "b    Suze\n",
       "c    Adam\n",
       "d     Liv\n",
       "dtype: object"
      ]
     },
     "execution_count": 15,
     "metadata": {},
     "output_type": "execute_result"
    }
   ],
   "source": [
    "s2 = pd.Series(['a','b','c','d'])\n",
    "\n",
    "s.rename(index=s2)"
   ]
  },
  {
   "cell_type": "code",
   "execution_count": 21,
   "metadata": {},
   "outputs": [
    {
     "data": {
      "text/plain": [
       "pandas.core.frame.DataFrame"
      ]
     },
     "execution_count": 21,
     "metadata": {},
     "output_type": "execute_result"
    }
   ],
   "source": [
    "city2.reset_index()"
   ]
  },
  {
   "cell_type": "code",
   "execution_count": 20,
   "metadata": {},
   "outputs": [
    {
     "data": {
      "text/plain": [
       "pandas.core.series.Series"
      ]
     },
     "execution_count": 20,
     "metadata": {},
     "output_type": "execute_result"
    }
   ],
   "source": [
    "type(city2)"
   ]
  },
  {
   "cell_type": "code",
   "execution_count": 36,
   "metadata": {},
   "outputs": [
    {
     "data": {
      "text/html": [
       "<div>\n",
       "<style scoped>\n",
       "    .dataframe tbody tr th:only-of-type {\n",
       "        vertical-align: middle;\n",
       "    }\n",
       "\n",
       "    .dataframe tbody tr th {\n",
       "        vertical-align: top;\n",
       "    }\n",
       "\n",
       "    .dataframe thead th {\n",
       "        text-align: right;\n",
       "    }\n",
       "</style>\n",
       "<table border=\"1\" class=\"dataframe\">\n",
       "  <thead>\n",
       "    <tr style=\"text-align: right;\">\n",
       "      <th></th>\n",
       "      <th>index</th>\n",
       "      <th>0</th>\n",
       "    </tr>\n",
       "  </thead>\n",
       "  <tbody>\n",
       "    <tr>\n",
       "      <th>0</th>\n",
       "      <td>Paul</td>\n",
       "      <td>145</td>\n",
       "    </tr>\n",
       "    <tr>\n",
       "      <th>1</th>\n",
       "      <td>John</td>\n",
       "      <td>142</td>\n",
       "    </tr>\n",
       "    <tr>\n",
       "      <th>2</th>\n",
       "      <td>George</td>\n",
       "      <td>38</td>\n",
       "    </tr>\n",
       "    <tr>\n",
       "      <th>3</th>\n",
       "      <td>Ringo</td>\n",
       "      <td>13</td>\n",
       "    </tr>\n",
       "  </tbody>\n",
       "</table>\n",
       "</div>"
      ],
      "text/plain": [
       "    index    0\n",
       "0    Paul  145\n",
       "1    John  142\n",
       "2  George   38\n",
       "3   Ringo   13"
      ]
     },
     "execution_count": 36,
     "metadata": {},
     "output_type": "execute_result"
    }
   ],
   "source": [
    "f_dict = {'Paul':145, 'John':142,'George':38,'Ringo':13}\n",
    "\n",
    "ss = pd.Series(f_dict)\n",
    "\n",
    "(ss.reset_index())\n",
    "\n"
   ]
  },
  {
   "cell_type": "code",
   "execution_count": null,
   "metadata": {},
   "outputs": [],
   "source": [
    "data = pd.DataFrame({'Brand': ['Maruti', 'Hyundai', 'Tata',\n",
    "                               'Mahindra', 'Maruti', 'Hyundai',\n",
    "                               'Renault', 'Tata', 'Maruti'],\n",
    "                     'Year': [2012, 2014, 2011, 2015, 2012,\n",
    "                              2016, 2014, 2018, 2019],\n",
    "                     'Kms Driven': [50000, 30000, 60000,\n",
    "                                    25000, 10000, 46000,\n",
    "                                    31000, 15000, 12000],\n",
    "                     'City': ['Gurgaon', 'Delhi', 'Mumbai',\n",
    "                              'Delhi', 'Mumbai', 'Delhi',\n",
    "                              'Mumbai', 'Chennai',  'Ghaziabad'],\n",
    "                     'Mileage':  [28, 27, 25, 26, 28,\n",
    "                                  29, 24, 21, 24]})\n",
    " \n",
    "# displaying the DataFrame\n",
    "display(data)"
   ]
  },
  {
   "cell_type": "code",
   "execution_count": null,
   "metadata": {},
   "outputs": [],
   "source": [
    "# selecting cars with brand 'Maruti' and Mileage > 25\n",
    "\n",
    "#display(data.loc[(data.Brand == 'Maruti') & (data.Mileage & gt  25)])\n",
    "\n",
    "display( data.loc[(data.Brand == 'Maruti') & (data.Mileage > 25)  ])\n",
    "\n",
    "\n",
    "data.loc[1]   # access by labels\n",
    "\n",
    "\n",
    "data.iloc[1]  # by index\n"
   ]
  }
 ],
 "metadata": {
  "kernelspec": {
   "display_name": "Python 3 (ipykernel)",
   "language": "python",
   "name": "python3"
  },
  "language_info": {
   "codemirror_mode": {
    "name": "ipython",
    "version": 3
   },
   "file_extension": ".py",
   "mimetype": "text/x-python",
   "name": "python",
   "nbconvert_exporter": "python",
   "pygments_lexer": "ipython3",
   "version": "3.9.15"
  },
  "orig_nbformat": 4
 },
 "nbformat": 4,
 "nbformat_minor": 2
}
